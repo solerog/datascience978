{
 "cells": [
  {
   "cell_type": "markdown",
   "metadata": {},
   "source": [
    "# Time Series"
   ]
  },
  {
   "cell_type": "markdown",
   "metadata": {},
   "source": [
    "### Contiguous train test split"
   ]
  },
  {
   "cell_type": "code",
   "execution_count": null,
   "metadata": {},
   "outputs": [],
   "source": [
    "# Let's keep the last 40% of the values out for testing purposes\n",
    "train_size = 0.6\n",
    "index = round(train_size*df.shape[0])\n",
    "\n",
    "df_train = df.iloc[:index]\n",
    "df_test = df.iloc[index:]"
   ]
  }
 ],
 "metadata": {
  "kernelspec": {
   "display_name": "Python 3.8.12 64-bit ('lewagon')",
   "language": "python",
   "name": "python3"
  },
  "language_info": {
   "name": "python",
   "version": "3.8.12"
  },
  "orig_nbformat": 4,
  "vscode": {
   "interpreter": {
    "hash": "aa77d619d6dcdd36e8fd5689d2f52630df74221f02267f9c7440a3f32faeaec9"
   }
  }
 },
 "nbformat": 4,
 "nbformat_minor": 2
}
