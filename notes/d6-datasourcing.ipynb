{
 "cells": [
  {
   "cell_type": "markdown",
   "metadata": {},
   "source": [
    "# Data sourcing"
   ]
  },
  {
   "cell_type": "code",
   "execution_count": 1,
   "metadata": {},
   "outputs": [],
   "source": [
    "import matplotlib\n",
    "%matplotlib inline\n",
    "import numpy as np\n",
    "import pandas as pd"
   ]
  },
  {
   "cell_type": "code",
   "execution_count": 3,
   "metadata": {},
   "outputs": [],
   "source": [
    "import requests"
   ]
  },
  {
   "cell_type": "code",
   "execution_count": 5,
   "metadata": {},
   "outputs": [
    {
     "data": {
      "text/plain": [
       "200"
      ]
     },
     "execution_count": 5,
     "metadata": {},
     "output_type": "execute_result"
    }
   ],
   "source": [
    "response = requests.get('https://lyrics.lewagon.ai/search?artist=The%20Beatles&title=Come%20together')\n",
    "response.status_code"
   ]
  },
  {
   "cell_type": "code",
   "execution_count": 6,
   "metadata": {},
   "outputs": [
    {
     "data": {
      "text/plain": [
       "'Here come old flat top\\nHe come grooving up slowly\\nHe got joo joo eyeball\\nHe one holy roller\\nHe got hair down to his knee\\nGot to be a joker he just do what you please.\\n\\nHe wear no shoe shine\\nHe got toe jam football\\nHe got monkey finger\\nHe shoot Coca-Cola\\nHe say I know you, you know me\\nOne thing I can tell you is you got to be free\\nCome together right now over me\\n\\nHe bag production\\nHe got walrus gumboot\\nHe got Ono sideboard\\nHe one spinal cracker\\nHe got feet down below his knee\\nHold you in his armchair you can feel his disease\\nCome together right now over me\\n\\nRight!\\nCome\\nCome...\\nCome...\\nCome...\\n\\nHe roller coaster\\nHe got early warning\\nHe got Muddy Water\\nHe one Mojo filter\\nHe say. \"One and one and one is three\"\\nGot to be good looking \\'cause he so hard to see\\nCome together right now over me\\n\\nOh!\\nCome together\\nYeah\\nCome together\\nYeah\\nCome together\\nYeah\\nCome together\\nYeah\\nCome together\\nYeah\\nCome together\\nYeah\\nCome together\\nYeah\\nAhh\\nCome together\\nYeah\\nCome together...'"
      ]
     },
     "execution_count": 6,
     "metadata": {},
     "output_type": "execute_result"
    }
   ],
   "source": [
    "response.json()['lyrics']"
   ]
  },
  {
   "cell_type": "code",
   "execution_count": 9,
   "metadata": {},
   "outputs": [],
   "source": [
    "def fetch_lyrics(artist, title):\n",
    "    \"\"\"\n",
    "    Get lyrics from Seeds Lyrics API. Returns empty string if song not found\n",
    "    \"\"\"\n",
    "    url = f'https://lyrics.lewagon.ai/search?artist={artist}&title={title}'\n",
    "    response = requests.get(url)\n",
    "    if response.status_code != 200:\n",
    "        return f'Information about {artist} - {title} not found'\n",
    "    data = response.json()\n",
    "    return data['lyrics']"
   ]
  },
  {
   "cell_type": "code",
   "execution_count": 8,
   "metadata": {},
   "outputs": [
    {
     "data": {
      "text/plain": [
       "'Here come old flat top\\nHe come grooving up slowly\\nHe got joo joo eyeball\\nHe one holy roller\\nHe got hair down to his knee\\nGot to be a joker he just do what you please.\\n\\nHe wear no shoe shine\\nHe got toe jam football\\nHe got monkey finger\\nHe shoot Coca-Cola\\nHe say I know you, you know me\\nOne thing I can tell you is you got to be free\\nCome together right now over me\\n\\nHe bag production\\nHe got walrus gumboot\\nHe got Ono sideboard\\nHe one spinal cracker\\nHe got feet down below his knee\\nHold you in his armchair you can feel his disease\\nCome together right now over me\\n\\nRight!\\nCome\\nCome...\\nCome...\\nCome...\\n\\nHe roller coaster\\nHe got early warning\\nHe got Muddy Water\\nHe one Mojo filter\\nHe say. \"One and one and one is three\"\\nGot to be good looking \\'cause he so hard to see\\nCome together right now over me\\n\\nOh!\\nCome together\\nYeah\\nCome together\\nYeah\\nCome together\\nYeah\\nCome together\\nYeah\\nCome together\\nYeah\\nCome together\\nYeah\\nCome together\\nYeah\\nAhh\\nCome together\\nYeah\\nCome together...'"
      ]
     },
     "execution_count": 8,
     "metadata": {},
     "output_type": "execute_result"
    }
   ],
   "source": [
    "fetch_lyrics('The Beatles', 'Come together')"
   ]
  }
 ],
 "metadata": {
  "kernelspec": {
   "display_name": "Python 3.8.12 64-bit ('shims')",
   "language": "python",
   "name": "python3"
  },
  "language_info": {
   "codemirror_mode": {
    "name": "ipython",
    "version": 3
   },
   "file_extension": ".py",
   "mimetype": "text/x-python",
   "name": "python",
   "nbconvert_exporter": "python",
   "pygments_lexer": "ipython3",
   "version": "3.8.12"
  },
  "orig_nbformat": 4,
  "vscode": {
   "interpreter": {
    "hash": "e06717285864d9f41bc05c8c2a2ca0a74316abf8b7040700d6ddcbbc509580b3"
   }
  }
 },
 "nbformat": 4,
 "nbformat_minor": 2
}
